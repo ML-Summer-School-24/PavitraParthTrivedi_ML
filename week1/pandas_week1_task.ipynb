{
 "cells": [
  {
   "cell_type": "code",
   "execution_count": 167,
   "id": "606b236a-0a0a-4db3-9b09-ef96fae7b639",
   "metadata": {},
   "outputs": [
    {
     "name": "stdin",
     "output_type": "stream",
     "text": [
      "Do you want to input data or need a pre setted data frame \n",
      "(press 0 for inputting data and 1 for presetted data frame) :  1\n"
     ]
    }
   ],
   "source": [
    "import pandas as pd\n",
    "\n",
    "# To take input from user for details of students:\n",
    "# df = data frame\n",
    "\n",
    "input_method = int(input('Do you want to input data or need a pre setted data frame \\n(press 0 for inputting data and 1 for presetted data frame) : '))\n",
    "\n",
    "if input_method == 0:\n",
    "    create_df = {'Roll_number':[],'Name':[],'Gender':[],'Marks1':[],'Marks2':[],'Marks3':[]}\n",
    "    for data_input in range(10):\n",
    "        print(f'Enter data of {data_input+1}th student')\n",
    "        create_df['Roll_number'].append(int(input('Enter roll number:')))\n",
    "        create_df['Name'].append(input('enter name:'))\n",
    "        create_df['Gender'].append(input('enter gender(M/F)'))\n",
    "        create_df['Marks1'].append(int(input('Enter Marks1')))\n",
    "        create_df['Marks2'].append(int(input('Enter Marks2')))\n",
    "        create_df['Marks3'].append(int(input('Enter Marks3')))\n",
    "elif input_method == 1:\n",
    "    create_df={'Roll_number': [1, 2, 3, 4, 5, 6, 7, 8, 9, 10],   \n",
    "          'Name': ['A', 'B', 'C', 'D', 'E', 'F', 'G', 'H', 'I', 'J'],   \n",
    "          'Gender': ['M', 'F', 'M', 'M', 'F', 'F', 'M', 'F', 'M', 'F'],   \n",
    "          'Marks1': [30, 69, 40, 23, 89, 45, 92, 94, 78, 87 ],   \n",
    "          'Marks2': [45, 89, 67, 90, 99, 56, 23, 78, 34, 58 ],   \n",
    "          'Marks3': [59, 79, 68, 100, 76, 96, 35, 78, 24, 92] }  \n",
    "\n"
   ]
  },
  {
   "cell_type": "code",
   "execution_count": 148,
   "id": "8be4d484-d6ca-457e-bd30-8a366d0c2f0b",
   "metadata": {},
   "outputs": [
    {
     "name": "stdout",
     "output_type": "stream",
     "text": [
      "   Roll_number Name Gender  Marks1  Marks2  Marks3\n",
      "0            1    A      M      30      45      59\n",
      "1            2    B      F      69      89      79\n",
      "2            3    C      M      40      67      68\n",
      "3            4    D      M      23      90     100\n",
      "4            5    E      F      89      99      76\n",
      "5            6    F      F      45      56      96\n",
      "6            7    G      M      92      23      35\n",
      "7            8    H      F      94      78      78\n",
      "8            9    I      M      78      34      24\n",
      "9           10    J      F      87      58      92\n"
     ]
    }
   ],
   "source": [
    "# 1. To create a data frame with details of 10 students:\n",
    "\n",
    "df = pd.DataFrame(create_df)\n",
    "print(df)\n"
   ]
  },
  {
   "cell_type": "code",
   "execution_count": 166,
   "id": "7ccd84fe-2821-41fb-8d56-7b63577e3867",
   "metadata": {},
   "outputs": [
    {
     "name": "stdout",
     "output_type": "stream",
     "text": [
      "Result using method 1(manually):\n",
      "\n",
      "   Roll_number Name Gender  Marks1  Marks2  Marks3  Total\n",
      "0            1    A      M      30      45      59    134\n",
      "1            2    B      F      69      89      79    237\n",
      "2            3    C      M      40      67      68    175\n",
      "3            4    D      M      23      90     100    213\n",
      "4            5    E      F      89      99      76    264\n",
      "5            6    F      F      45      56      96    197\n",
      "6            7    G      M      92      23      35    150\n",
      "7            8    H      F      94      78      78    250\n",
      "8            9    I      M      78      34      24    136\n",
      "9           10    J      F      87      58      92    237\n",
      "\n",
      "Result using method 2(using iloc):\n",
      "\n",
      "   Roll_number Name Gender  Marks1  Marks2  Marks3  Total\n",
      "0            1    A      M      30      45      59    134\n",
      "1            2    B      F      69      89      79    237\n",
      "2            3    C      M      40      67      68    175\n",
      "3            4    D      M      23      90     100    213\n",
      "4            5    E      F      89      99      76    264\n",
      "5            6    F      F      45      56      96    197\n",
      "6            7    G      M      92      23      35    150\n",
      "7            8    H      F      94      78      78    250\n",
      "8            9    I      M      78      34      24    136\n",
      "9           10    J      F      87      58      92    237\n"
     ]
    }
   ],
   "source": [
    "# 2. To create a new column with total marks of all students:\n",
    "\n",
    "# 1st method:>\n",
    "\n",
    "print(\"Result using method 1(manually):\\n\")\n",
    "df['Total'] = df['Marks1'] + df['Marks2'] + df['Marks3'] \n",
    "print(df)\n",
    "\n",
    "# 2nd method:>\n",
    "\n",
    "print(\"\\nResult using method 2(using iloc):\\n\")\n",
    "df['Total'] = 0\n",
    "df['Total'] = df.iloc[:,3:].sum(axis = 1)\n",
    "print(df)\n"
   ]
  },
  {
   "cell_type": "code",
   "execution_count": 149,
   "id": "6a1c6ffb-a1ab-4d90-80c9-f0d895c597c2",
   "metadata": {},
   "outputs": [
    {
     "name": "stdout",
     "output_type": "stream",
     "text": [
      "Lowest marks in marks1 : 23\n"
     ]
    }
   ],
   "source": [
    "# 3. To find the lowest marks in column marks1:\n",
    "\n",
    "low_marks1_df = df.sort_values('Marks1')\n",
    "print(f'Lowest marks in marks1 : {low_marks1_df.iloc[0,3]}')\n"
   ]
  },
  {
   "cell_type": "code",
   "execution_count": 150,
   "id": "9218ea29-23e4-4a05-bd30-782c870cd090",
   "metadata": {},
   "outputs": [
    {
     "name": "stdout",
     "output_type": "stream",
     "text": [
      "Highest marks in marks2 : 99\n"
     ]
    }
   ],
   "source": [
    "# 4. To find the highest marks in column marks2:\n",
    "\n",
    "high_marks2_df = df.sort_values('Marks2', ascending = False)\n",
    "print(f'Highest marks in marks2 : {high_marks2_df.iloc[0,4] }')\n"
   ]
  },
  {
   "cell_type": "code",
   "execution_count": 151,
   "id": "14bfd916-9a5c-41d4-8ee3-79d88c88785e",
   "metadata": {},
   "outputs": [
    {
     "name": "stdout",
     "output_type": "stream",
     "text": [
      "The average of Marks3 is : 353.5\n"
     ]
    }
   ],
   "source": [
    "# 5. To find the average marks in marks3:\n",
    "\n",
    "print(f'The average of Marks3 is : {(df.iloc[:,5].sum(axis = 0))/2}')\n"
   ]
  },
  {
   "cell_type": "code",
   "execution_count": 152,
   "id": "acc8e19d-0a5e-4116-9344-19843fc38a49",
   "metadata": {},
   "outputs": [
    {
     "name": "stdout",
     "output_type": "stream",
     "text": [
      "Name of the student with highest average : E\n",
      "   Roll_number Name Gender  Marks1  Marks2  Marks3  Total\n",
      "0            1    A      M      30      45      59    134\n",
      "1            2    B      F      69      89      79    237\n",
      "2            3    C      M      40      67      68    175\n",
      "3            4    D      M      23      90     100    213\n",
      "4            5    E      F      89      99      76    264\n",
      "5            6    F      F      45      56      96    197\n",
      "6            7    G      M      92      23      35    150\n",
      "7            8    H      F      94      78      78    250\n",
      "8            9    I      M      78      34      24    136\n",
      "9           10    J      F      87      58      92    237\n"
     ]
    }
   ],
   "source": [
    "# 6. To find the students name with highest average:\n",
    "\n",
    "df['Total'] = 0\n",
    "df['Total'] = df.iloc[:,3:].sum(axis = 1)\n",
    "df['Average'] = df['Total']/3 \n",
    "high_avg_df = df.sort_values('Average', ascending = False)\n",
    "print(f'Name of the student with highest average : {high_avg_df.iloc[0,1]}')\n",
    "df = df.drop(columns = ['Average'])\n"
   ]
  },
  {
   "cell_type": "code",
   "execution_count": 165,
   "id": "30227aca-270c-47f2-b872-d0a3b69babbe",
   "metadata": {},
   "outputs": [
    {
     "name": "stdout",
     "output_type": "stream",
     "text": [
      "Number of students failed in marks2(using loop) : 2\n",
      "\n",
      "Number of students failed in marks2(using len function) : 2\n"
     ]
    }
   ],
   "source": [
    "# 7. To find how many students failed in marks2 (<40):\n",
    "\n",
    "# using loop:\n",
    "num_fail = 0\n",
    "for loop_var in (df.loc[df['Marks2']<40])['Marks2']:\n",
    "    num_fail += 1\n",
    "print(f\"Number of students failed in marks2(using loop) : {num_fail}\\n\")\n",
    "\n",
    "#using len function:\n",
    "fail = len(df.loc[df['Marks2']<40])\n",
    "print(f'Number of students failed in marks2(using len function) : {fail}')\n",
    "\n",
    "    "
   ]
  },
  {
   "cell_type": "code",
   "execution_count": 154,
   "id": "9f7cee1f-e1e9-4299-8b44-b5d440f9489b",
   "metadata": {},
   "outputs": [
    {
     "name": "stdout",
     "output_type": "stream",
     "text": [
      "Five-Number Summary for all numeric attributes(using describe):-\n",
      "\n",
      "          min    25%   50%    75%    max\n",
      "Marks1  23.0  41.25  73.5  88.50   94.0\n",
      "Marks2  23.0  47.75  62.5  86.25   99.0\n",
      "Marks3  24.0  61.25  77.0  88.75  100.0\n",
      "\n",
      "Five number summary for all numeric attributes(manually):-\n",
      "\n",
      "      Data  min_value     q1  median     q3  max_valued\n",
      "0  Marks1         23  41.25    73.5  88.50          94\n",
      "1  Marks2         23  47.75    62.5  86.25          99\n",
      "2  Marks3         24  61.25    77.0  88.75         100\n"
     ]
    }
   ],
   "source": [
    "# 8. To create a table with \"5-number summary\" of all the numeric attributes.\n",
    "\n",
    "# using describe\n",
    "five_num_summary = df.iloc[:,3:6].describe().transpose()[['min', '25%', '50%', '75%', 'max']]\n",
    "print(\"Five-Number Summary for all numeric attributes(using describe):-\\n\\n\",five_num_summary)\n",
    "\n",
    "\n",
    "#adding manually\n",
    "dict_5numsum = {'Data' : ['Marks1' , 'Marks2' , 'Marks3'] , 'min_value' : [] , 'q1' : [] , 'median' : [] , 'q3' : [] , 'max_valued' : [] }\n",
    "\n",
    "#adding data from Marks1:\n",
    "dict_5numsum['min_value'].append(df['Marks1'].min())\n",
    "dict_5numsum['q1'].append(df['Marks1'].quantile(0.25))\n",
    "dict_5numsum['median'].append(df['Marks1'].median())\n",
    "dict_5numsum['q3'].append(df['Marks1'].quantile(0.75))\n",
    "dict_5numsum['max_valued'].append(df['Marks1'].max())\n",
    "\n",
    "#adding data from Marks2:\n",
    "dict_5numsum['min_value'].append(df['Marks2'].min())\n",
    "dict_5numsum['q1'].append(df['Marks2'].quantile(0.25))\n",
    "dict_5numsum['median'].append(df['Marks2'].median())\n",
    "dict_5numsum['q3'].append(df['Marks2'].quantile(0.75))\n",
    "dict_5numsum['max_valued'].append(df['Marks2'].max())\n",
    "\n",
    "#adding data from Marks3:\n",
    "dict_5numsum['min_value'].append(df['Marks3'].min())\n",
    "dict_5numsum['q1'].append(df['Marks3'].quantile(0.25))\n",
    "dict_5numsum['median'].append(df['Marks3'].median())\n",
    "dict_5numsum['q3'].append(df['Marks3'].quantile(0.75))\n",
    "dict_5numsum['max_valued'].append(df['Marks3'].max())\n",
    "\n",
    "five_num_sum = pd.DataFrame(dict_5numsum)\n",
    "print(\"\\nFive number summary for all numeric attributes(manually):-\\n\\n\", five_num_sum)\n",
    "\n",
    "\n",
    "\n",
    "\n",
    "\n",
    "\n",
    "\n"
   ]
  }
 ],
 "metadata": {
  "kernelspec": {
   "display_name": "Python 3 (ipykernel)",
   "language": "python",
   "name": "python3"
  },
  "language_info": {
   "codemirror_mode": {
    "name": "ipython",
    "version": 3
   },
   "file_extension": ".py",
   "mimetype": "text/x-python",
   "name": "python",
   "nbconvert_exporter": "python",
   "pygments_lexer": "ipython3",
   "version": "3.11.7"
  }
 },
 "nbformat": 4,
 "nbformat_minor": 5
}
